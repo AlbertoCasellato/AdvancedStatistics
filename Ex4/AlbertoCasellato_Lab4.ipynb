{
 "cells": [
  {
   "cell_type": "markdown",
   "id": "34238d8c",
   "metadata": {},
   "source": [
    "# Exercise 1\n",
    "A well established and diffused method for detecting a disease in blood fails to detect the presence of disease in 15% of the patients that actually have the disease. A young UniPD startUp has developed an innovative technique of screening. During the qualification phase, a random sample of n = 75 patients known to have the disease is screened using the new method."
   ]
  },
  {
   "cell_type": "markdown",
   "id": "04f1e45f",
   "metadata": {},
   "source": [
    "(a) Write the probability mass function of getting a false negative y, using the new technique."
   ]
  },
  {
   "cell_type": "code",
   "execution_count": 1,
   "id": "3c5c8ce3",
   "metadata": {},
   "outputs": [],
   "source": [
    "pmf <- function(y, n, p) {\n",
    "    return(dbinom(y, n, p))\n",
    "}"
   ]
  },
  {
   "cell_type": "markdown",
   "id": "d8511776",
   "metadata": {},
   "source": [
    "(b) Let n = 75 be the patient sample, the new method fails to detect the disease in y = 6 cases.\\\n",
    "What is the frequentist estimator for the failure probability of the new method?"
   ]
  },
  {
   "cell_type": "code",
   "execution_count": 2,
   "id": "3f1e5c61",
   "metadata": {},
   "outputs": [
    {
     "name": "stdout",
     "output_type": "stream",
     "text": [
      "Frequentist estimator for failure probability: 0.08"
     ]
    }
   ],
   "source": [
    "n <- 75\n",
    "y <- 6\n",
    "p_frequentist <- y / n\n",
    "cat(\"Frequentist estimator for failure probability:\", p_frequentist)"
   ]
  },
  {
   "cell_type": "markdown",
   "id": "8ee6da30",
   "metadata": {},
   "source": [
    "(c) In Bayesian setting, evaluate the posterior probability, assuming a beta distribution with mean value 0.15 and standard deviation 0.14.\\\n",
    "Plot the posterior distribution for y, and mark on the plot the mean value and variance."
   ]
  },
  {
   "cell_type": "code",
   "execution_count": 3,
   "id": "b41dcb80",
   "metadata": {},
   "outputs": [
    {
     "name": "stdout",
     "output_type": "stream",
     "text": [
      "Posterior variance: 0.0009520625"
     ]
    },
    {
     "data": {
      "image/png": "[encoded data removed]",
      "text/plain": [
       "Plot with title “Posterior Distribution”"
      ]
     },
     "metadata": {
      "image/png": {
       "height": 420,
       "width": 420
      }
     },
     "output_type": "display_data"
    }
   ],
   "source": [
    "mean <- 0.15\n",
    "sd <- 0.14\n",
    "p <- seq(0, 1, length.out = 1000)\n",
    "\n",
    "# prior\n",
    "k <- mean * (1 - mean) / sd^2 - 1\n",
    "alpha_prior <- mean * k\n",
    "beta_prior <- (1 - mean) * k\n",
    "prior <- dbeta(p, alpha_prior, beta_prior)\n",
    "\n",
    "# posterior\n",
    "alpha_post <- alpha_prior + y\n",
    "beta_post <- beta_prior + (n - y)\n",
    "posterior <- dbeta(p, alpha_post, beta_post)\n",
    "mean_post <- alpha_post / (alpha_post + beta_post)\n",
    "\n",
    "plot(p, posterior, type = \"l\", lwd = 2,\n",
    "     main = \"Posterior Distribution\",\n",
    "     xlab = \"p\", ylab = \"Density\")\n",
    "abline(v = mean_post, col = \"red\")\n",
    "legend(\"topright\", lwd = c(2, 1),\n",
    "       col = c(\"black\", \"red\"),\n",
    "       legend = c(\"Posterior distrib.\", \"Mean\")\n",
    ")\n",
    "\n",
    "var_post <- (alpha_post * beta_post) / ((alpha_post + beta_post)^2 * (alpha_post + beta_post + 1))\n",
    "cat(\"Posterior variance:\", var_post)"
   ]
  },
  {
   "cell_type": "markdown",
   "id": "97cd2807",
   "metadata": {},
   "source": [
    "(d) Perform a hypothesis test assuming that if the probability of failing to the detect the desease in ill patients is greater or equal than 15%, the new test is no better that the traditional method. Test the sample at a 5% level of significance in the Bayesian setting."
   ]
  },
  {
   "cell_type": "code",
   "execution_count": 10,
   "id": "a22f85f5",
   "metadata": {},
   "outputs": [
    {
     "name": "stdout",
     "output_type": "stream",
     "text": [
      "New test is better."
     ]
    }
   ],
   "source": [
    "p0 <- 0.15\n",
    "significance <- 0.05\n",
    "p_less_0.15 <- round(pbeta(p0, alpha_post, beta_post), 2)\n",
    "if (p_less_0.15 > (1 - significance)) {\n",
    "    cat(\"New test is better.\")\n",
    "}"
   ]
  },
  {
   "cell_type": "markdown",
   "id": "dbb5a406",
   "metadata": {},
   "source": [
    "(e) Perform the same hypothesis test in the classical frequentist setting."
   ]
  },
  {
   "cell_type": "code",
   "execution_count": 162,
   "id": "7ecc131a",
   "metadata": {},
   "outputs": [
    {
     "name": "stdout",
     "output_type": "stream",
     "text": [
      "New test is better."
     ]
    }
   ],
   "source": [
    "sigma <- sqrt((p0 * (1 - p0)) / n)\n",
    "z <- (p_frequentist - p0) / sigma\n",
    "p_less_0.15 <- pnorm(z)\n",
    "\n",
    "if (p_less_0.15 < significance) {\n",
    "    cat(\"New test is better.\")\n",
    "}"
   ]
  },
  {
   "cell_type": "markdown",
   "id": "c9703f90",
   "metadata": {},
   "source": [
    "# Exercise 2\n",
    "A researcher has collected the following n = 20 observations that are supposed to be drawn from an unimodal Beta distribution Beta(α = 2, β), where α = 2 is fixed and β is the unknown parameter.\n",
    "```0.269, 0.344, 0.802, 0.418, 0.433, 0.835, 0.52, 0.139, 0.243, 0.294, 0.723, 0.493, 0.504, 0.428,\n",
    "0.27, 0.53, 0.057, 0.585, 0.288, 0.171```\n",
    "\n",
    "Let the prior be the following piece-wise function:\n",
    "$$\n",
    "p(\\beta) =\n",
    "\\begin{cases}\n",
    "0.2 \\cdot \\beta & \\text{if } 0.1 \\leq \\beta < 2 \\\\\n",
    "\\frac{1}{0.8 \\sqrt{2\\pi}} e^{-\\frac{(\\beta - 2.8)^2}{2(0.8)^2}} & \\text{if } 2 \\leq \\beta < 4 \\\\\n",
    "0.1 & \\text{if } 4 \\leq \\beta \\leq 10 \\\\\n",
    "0 & \\text{otherwise}\n",
    "\\end{cases}\n",
    "$$"
   ]
  },
  {
   "cell_type": "markdown",
   "id": "297182b8",
   "metadata": {},
   "source": [
    "(a) find the posterior distribution, the posterior mean and standard deviation"
   ]
  },
  {
   "cell_type": "code",
   "execution_count": null,
   "id": "02b6a7c8",
   "metadata": {},
   "outputs": [],
   "source": [
    "n <- 20\n",
    "alpha <- 2\n",
    "obs <- c(0.269, 0.344, 0.802, 0.418, 0.433, 0.835, 0.52, 0.139, 0.243, 0.294, \n",
    "           0.723, 0.493, 0.504, 0.428, 0.27, 0.53, 0.057, 0.585, 0.288, 0.171)"
   ]
  },
  {
   "cell_type": "markdown",
   "id": "b8446607",
   "metadata": {},
   "source": [
    "(b) find the 95% credibility interval for β"
   ]
  },
  {
   "cell_type": "code",
   "execution_count": null,
   "id": "1ad8702b",
   "metadata": {},
   "outputs": [],
   "source": []
  },
  {
   "cell_type": "markdown",
   "id": "4199b25c",
   "metadata": {},
   "source": [
    "(c) plot the posterior distribution, indicating on the same plot: the mean value, the standard deviation, and the 95% credibility interval"
   ]
  },
  {
   "cell_type": "code",
   "execution_count": null,
   "id": "585a76b4",
   "metadata": {},
   "outputs": [],
   "source": []
  },
  {
   "cell_type": "markdown",
   "id": "63752b3b",
   "metadata": {},
   "source": [
    "(d) plot (in another chunck but on the same canvas) the prior, the likelihood and the posterior distribution"
   ]
  },
  {
   "cell_type": "markdown",
   "id": "a7b1c08d",
   "metadata": {},
   "source": []
  },
  {
   "cell_type": "markdown",
   "id": "692bfc34",
   "metadata": {},
   "source": [
    "# Exercise 3"
   ]
  },
  {
   "cell_type": "markdown",
   "id": "b6160246",
   "metadata": {},
   "source": [
    "The six boxes toy model is described in reference. Write a program in R that:"
   ]
  },
  {
   "cell_type": "markdown",
   "id": "706d1a6e",
   "metadata": {},
   "source": [
    "(1) selects a random box"
   ]
  },
  {
   "cell_type": "code",
   "execution_count": 244,
   "id": "44b6c0e5",
   "metadata": {},
   "outputs": [
    {
     "name": "stdout",
     "output_type": "stream",
     "text": [
      "Random box chosen: H1 => 4 black balls and 1 white balls."
     ]
    }
   ],
   "source": [
    "random_box <- sample(0:5, 1)\n",
    "cat(\"Random box chosen: H\", random_box, \" => \", 5 - random_box, \n",
    "    \" black balls and \", random_box, \" white balls.\", sep=\"\")"
   ]
  },
  {
   "cell_type": "markdown",
   "id": "c9bb8bc2",
   "metadata": {},
   "source": [
    "(2) makes random sampling from the box\\\n",
    "(3) prints on the standard output the probability of selecting each box"
   ]
  },
  {
   "cell_type": "code",
   "execution_count": 245,
   "id": "710ef9b1",
   "metadata": {},
   "outputs": [
    {
     "name": "stdout",
     "output_type": "stream",
     "text": [
      "Black ball selected. Posterior after 10 samples: \t[0\t0.696\t0.279\t0.024\t0\t0\t]\n",
      "Black ball selected. Posterior after 20 samples: \t[0\t0.978\t0.022\t0\t0\t0\t]\n",
      "White ball selected. Posterior after 30 samples: \t[0\t0.997\t0.003\t0\t0\t0\t]\n",
      "Black ball selected. Posterior after 40 samples: \t[0\t0.996\t0.004\t0\t0\t0\t]\n",
      "Black ball selected. Posterior after 50 samples: \t[0\t1\t0\t0\t0\t0\t]\n",
      "Black ball selected. Posterior after 60 samples: \t[0\t1\t0\t0\t0\t0\t]\n",
      "Black ball selected. Posterior after 70 samples: \t[0\t1\t0\t0\t0\t0\t]\n",
      "Black ball selected. Posterior after 80 samples: \t[0\t1\t0\t0\t0\t0\t]\n",
      "Black ball selected. Posterior after 90 samples: \t[0\t1\t0\t0\t0\t0\t]\n",
      "White ball selected. Posterior after 100 samples: \t[0\t1\t0\t0\t0\t0\t]\n",
      "Black ball selected. Posterior after 110 samples: \t[0\t1\t0\t0\t0\t0\t]\n",
      "Black ball selected. Posterior after 120 samples: \t[0\t1\t0\t0\t0\t0\t]\n",
      "Black ball selected. Posterior after 130 samples: \t[0\t1\t0\t0\t0\t0\t]\n",
      "White ball selected. Posterior after 140 samples: \t[0\t1\t0\t0\t0\t0\t]\n",
      "Black ball selected. Posterior after 150 samples: \t[0\t1\t0\t0\t0\t0\t]\n",
      "Black ball selected. Posterior after 160 samples: \t[0\t1\t0\t0\t0\t0\t]\n",
      "White ball selected. Posterior after 170 samples: \t[0\t1\t0\t0\t0\t0\t]\n",
      "Black ball selected. Posterior after 180 samples: \t[0\t1\t0\t0\t0\t0\t]\n",
      "Black ball selected. Posterior after 190 samples: \t[0\t1\t0\t0\t0\t0\t]\n",
      "Black ball selected. Posterior after 200 samples: \t[0\t1\t0\t0\t0\t0\t]\n",
      "Black ball selected. Posterior after 210 samples: \t[0\t1\t0\t0\t0\t0\t]\n",
      "Black ball selected. Posterior after 220 samples: \t[0\t1\t0\t0\t0\t0\t]\n",
      "Black ball selected. Posterior after 230 samples: \t[0\t1\t0\t0\t0\t0\t]\n",
      "White ball selected. Posterior after 240 samples: \t[0\t1\t0\t0\t0\t0\t]\n",
      "Black ball selected. Posterior after 250 samples: \t[0\t1\t0\t0\t0\t0\t]\n",
      "Black ball selected. Posterior after 260 samples: \t[0\t1\t0\t0\t0\t0\t]\n",
      "Black ball selected. Posterior after 270 samples: \t[0\t1\t0\t0\t0\t0\t]\n",
      "Black ball selected. Posterior after 280 samples: \t[0\t1\t0\t0\t0\t0\t]\n",
      "White ball selected. Posterior after 290 samples: \t[0\t1\t0\t0\t0\t0\t]\n",
      "Black ball selected. Posterior after 300 samples: \t[0\t1\t0\t0\t0\t0\t]\n",
      "White ball selected. Posterior after 310 samples: \t[0\t1\t0\t0\t0\t0\t]\n",
      "Black ball selected. Posterior after 320 samples: \t[0\t1\t0\t0\t0\t0\t]\n",
      "Black ball selected. Posterior after 330 samples: \t[0\t1\t0\t0\t0\t0\t]\n",
      "White ball selected. Posterior after 340 samples: \t[0\t1\t0\t0\t0\t0\t]\n",
      "Black ball selected. Posterior after 350 samples: \t[0\t1\t0\t0\t0\t0\t]\n",
      "Black ball selected. Posterior after 360 samples: \t[0\t1\t0\t0\t0\t0\t]\n",
      "White ball selected. Posterior after 370 samples: \t[0\t1\t0\t0\t0\t0\t]\n",
      "Black ball selected. Posterior after 380 samples: \t[0\t1\t0\t0\t0\t0\t]\n",
      "Black ball selected. Posterior after 390 samples: \t[0\t1\t0\t0\t0\t0\t]\n",
      "Black ball selected. Posterior after 400 samples: \t[0\t1\t0\t0\t0\t0\t]\n",
      "Black ball selected. Posterior after 410 samples: \t[0\t1\t0\t0\t0\t0\t]\n",
      "Black ball selected. Posterior after 420 samples: \t[0\t1\t0\t0\t0\t0\t]\n",
      "Black ball selected. Posterior after 430 samples: \t[0\t1\t0\t0\t0\t0\t]\n",
      "Black ball selected. Posterior after 440 samples: \t[0\t1\t0\t0\t0\t0\t]\n",
      "Black ball selected. Posterior after 450 samples: \t[0\t1\t0\t0\t0\t0\t]\n",
      "Black ball selected. Posterior after 460 samples: \t[0\t1\t0\t0\t0\t0\t]\n",
      "White ball selected. Posterior after 470 samples: \t[0\t1\t0\t0\t0\t0\t]\n",
      "Black ball selected. Posterior after 480 samples: \t[0\t1\t0\t0\t0\t0\t]\n",
      "Black ball selected. Posterior after 490 samples: \t[0\t1\t0\t0\t0\t0\t]\n",
      "Black ball selected. Posterior after 500 samples: \t[0\t1\t0\t0\t0\t0\t]\n"
     ]
    }
   ],
   "source": [
    "# black ball = 0, white ball = 1\n",
    "f <- function(n_samples) {\n",
    "    # starting from a uniform prior\n",
    "    priors <- rep(1/6, 6)\n",
    "    \n",
    "    post_hist <- matrix(NA, nrow = n_samples + 1, ncol = 6)\n",
    "    post_hist[1,] <- priors\n",
    "    for (i in 1:n_samples) {\n",
    "        white_ball <- rbinom(1, size = 1, prob = random_box/5)\n",
    "        p_white <- (0:5) / 5\n",
    "        \n",
    "        if (white_ball) {\n",
    "            likelihood <- p_white\n",
    "        } else {\n",
    "            likelihood <- 1 - p_white\n",
    "        }\n",
    "        \n",
    "        priors_num <- likelihood * priors\n",
    "        priors <- priors_num / sum(priors_num)\n",
    "\n",
    "        post_hist[i+1,] <- priors\n",
    "        \n",
    "        name_ball <- \"Black\"\n",
    "        if (white_ball) {\n",
    "            name_ball <- \"White\"\n",
    "        }\n",
    "        if (i %% 10 == 0) {\n",
    "            posterior <- paste(round(priors, 3), collapse=\"\\t\")\n",
    "            cat(name_ball, \" ball selected. Posterior after \", i, \n",
    "                \" samples: \", \"\\t[\", posterior, \"\\t]\", \"\\n\", sep = \"\")\n",
    "        }\n",
    "        \n",
    "    }\n",
    "    \n",
    "}\n",
    "\n",
    "f(500)"
   ]
  },
  {
   "cell_type": "markdown",
   "id": "cf682db5",
   "metadata": {},
   "source": [
    "(4) plots the probability for each box as a function of the number of trial"
   ]
  },
  {
   "cell_type": "code",
   "execution_count": null,
   "id": "acacddd0",
   "metadata": {},
   "outputs": [],
   "source": []
  }
 ],
 "metadata": {
  "kernelspec": {
   "display_name": "R",
   "language": "R",
   "name": "ir"
  },
  "language_info": {
   "codemirror_mode": "r",
   "file_extension": ".r",
   "mimetype": "text/x-r-source",
   "name": "R",
   "pygments_lexer": "r",
   "version": "4.5.0"
  }
 },
 "nbformat": 4,
 "nbformat_minor": 5
}
