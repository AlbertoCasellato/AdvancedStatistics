{
 "cells": [
  {
   "cell_type": "code",
   "execution_count": 1,
   "id": "f5756f92",
   "metadata": {},
   "outputs": [],
   "source": [
    "library(rvest)"
   ]
  },
  {
   "cell_type": "code",
   "execution_count": 3,
   "id": "772a7585",
   "metadata": {},
   "outputs": [],
   "source": [
    "lakes <- read_html(\"https://en.wikipedia.org/wiki/List_of_lochs_of_Scotland\")\\b"
   ]
  }
 ],
 "metadata": {
  "kernelspec": {
   "display_name": "R",
   "language": "R",
   "name": "ir"
  },
  "language_info": {
   "codemirror_mode": "r",
   "file_extension": ".r",
   "mimetype": "text/x-r-source",
   "name": "R",
   "pygments_lexer": "r",
   "version": "4.4.3"
  }
 },
 "nbformat": 4,
 "nbformat_minor": 5
}
