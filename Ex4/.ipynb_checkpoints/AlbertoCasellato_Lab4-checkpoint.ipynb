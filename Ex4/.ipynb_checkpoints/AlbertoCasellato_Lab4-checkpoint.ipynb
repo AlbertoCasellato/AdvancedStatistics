{
 "cells": [
  {
   "cell_type": "markdown",
   "id": "34238d8c",
   "metadata": {},
   "source": [
    "# Exercise 1\n",
    "A well established and diffused method for detecting a disease in blood fails to detect the presence of disease in 15% of the patients that actually have the disease. A young UniPD startUp has developed an innovative technique of screening. During the qualification phase, a random sample of n = 75 patients known to have the disease is screened using the new method."
   ]
  },
  {
   "cell_type": "markdown",
   "id": "04f1e45f",
   "metadata": {},
   "source": [
    "(a) Write the probability mass function of getting a false negative y, using the new technique."
   ]
  },
  {
   "cell_type": "code",
   "execution_count": null,
   "id": "3c5c8ce3",
   "metadata": {},
   "outputs": [],
   "source": []
  },
  {
   "cell_type": "markdown",
   "id": "d8511776",
   "metadata": {},
   "source": [
    "(b) Let n = 75 be the patient sample, the new method fails to detect the disease in y = 6 cases.\\\n",
    "What is the frequentist estimator for the failure probability of the new method?"
   ]
  },
  {
   "cell_type": "code",
   "execution_count": null,
   "id": "3f1e5c61",
   "metadata": {},
   "outputs": [],
   "source": []
  },
  {
   "cell_type": "markdown",
   "id": "8ee6da30",
   "metadata": {},
   "source": [
    "(c) In Bayesian setting, evaluate the posterior probability, assuming a beta distribution with mean value 0.15 and standard deviation 0.14.\\\n",
    "Plot the posterior distribution for y, and mark on the plot the mean value and variance."
   ]
  },
  {
   "cell_type": "code",
   "execution_count": null,
   "id": "b41dcb80",
   "metadata": {},
   "outputs": [],
   "source": []
  },
  {
   "cell_type": "markdown",
   "id": "97cd2807",
   "metadata": {},
   "source": [
    "(d) Perform a hypothesis test assuming that if the probability of failing to the detect the desease in ill patients is greater or equal than 15%, the new test is no better that the traditional method. Test the sample at a 5% level of significance in the Bayesian setting."
   ]
  },
  {
   "cell_type": "code",
   "execution_count": null,
   "id": "a22f85f5",
   "metadata": {},
   "outputs": [],
   "source": []
  },
  {
   "cell_type": "markdown",
   "id": "dbb5a406",
   "metadata": {},
   "source": [
    "(e) Perform the same hypothesis test in the classical frequentist setting."
   ]
  },
  {
   "cell_type": "code",
   "execution_count": null,
   "id": "7ecc131a",
   "metadata": {},
   "outputs": [],
   "source": []
  }
 ],
 "metadata": {
  "kernelspec": {
   "display_name": "R",
   "language": "R",
   "name": "ir"
  },
  "language_info": {
   "codemirror_mode": "r",
   "file_extension": ".r",
   "mimetype": "text/x-r-source",
   "name": "R",
   "pygments_lexer": "r",
   "version": "4.5.0"
  }
 },
 "nbformat": 4,
 "nbformat_minor": 5
}
