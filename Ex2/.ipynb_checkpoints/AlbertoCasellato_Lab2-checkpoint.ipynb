{
 "cells": [
  {
   "cell_type": "markdown",
   "id": "34238d8c",
   "metadata": {},
   "source": [
    "# Exercise 1 - Discrete random variable\n",
    "Let X ∼ ZTB(n, p) be a random variable following a Zero-Truncated Binomial Distribution in which:\n",
    "- n ∈ N is the number of Bernoulli trials.\n",
    "- p ∈ (0, 1) is the probability of success on a single trial.\n",
    "\n",
    "...\n",
    "\n",
    "Assuming n = 14 and p = 0.15."
   ]
  },
  {
   "cell_type": "markdown",
   "id": "4b340ee7",
   "metadata": {},
   "source": [
    "(1) Write the R functions for the PMF and cumulative distribution (CDF), using the R naming convention."
   ]
  },
  {
   "cell_type": "code",
   "execution_count": null,
   "id": "912a4734",
   "metadata": {},
   "outputs": [],
   "source": []
  },
  {
   "cell_type": "markdown",
   "id": "219fff87",
   "metadata": {},
   "source": [
    "(2) Produce two plots showing the PMF and CDF, separately."
   ]
  },
  {
   "cell_type": "code",
   "execution_count": null,
   "id": "5d05edc2",
   "metadata": {},
   "outputs": [],
   "source": []
  },
  {
   "cell_type": "markdown",
   "id": "af1c3387",
   "metadata": {},
   "source": [
    "(3) Compute the mean value and variance of the ZTB distribution using R. Compare the obtained values with the analytical statistical moments for the zero-truncated and the standard binomial distributions."
   ]
  },
  {
   "cell_type": "code",
   "execution_count": null,
   "id": "f3e270d0",
   "metadata": {},
   "outputs": [],
   "source": []
  },
  {
   "cell_type": "markdown",
   "id": "fc86d826",
   "metadata": {},
   "source": [
    "(4) Generate a sample of random numbers from this distribution, show them in an histogram, and evaluate the sample mean."
   ]
  },
  {
   "cell_type": "code",
   "execution_count": null,
   "id": "24ef51b4",
   "metadata": {},
   "outputs": [],
   "source": []
  },
  {
   "cell_type": "markdown",
   "id": "5c855138",
   "metadata": {},
   "source": [
    "# Exercise 2 - Continuous Random Variable\n",
    "The energy distribution of CR muons at sea level can be approximated as follows\n",
    "...\n"
   ]
  },
  {
   "cell_type": "markdown",
   "id": "f6129daf",
   "metadata": {},
   "source": [
    "(1) Compute the normalisation factor N using R."
   ]
  },
  {
   "cell_type": "markdown",
   "id": "b38192f5",
   "metadata": {},
   "source": [
    "(2) Plot the probability density function in R."
   ]
  },
  {
   "cell_type": "markdown",
   "id": "32ad0428",
   "metadata": {},
   "source": [
    "(3) Plot the cumulative density function in R."
   ]
  },
  {
   "cell_type": "markdown",
   "id": "1cb071b9",
   "metadata": {},
   "source": [
    "(4) Compute the mean value using R."
   ]
  },
  {
   "cell_type": "markdown",
   "id": "07628134",
   "metadata": {},
   "source": [
    "(5) Generate 106 random numbers from this distribution, show them in an histogram and superimpose the pdf (with a line or with a sufficient number of points)."
   ]
  }
 ],
 "metadata": {
  "kernelspec": {
   "display_name": "R",
   "language": "R",
   "name": "ir"
  },
  "language_info": {
   "codemirror_mode": "r",
   "file_extension": ".r",
   "mimetype": "text/x-r-source",
   "name": "R",
   "pygments_lexer": "r",
   "version": "4.5.0"
  }
 },
 "nbformat": 4,
 "nbformat_minor": 5
}
