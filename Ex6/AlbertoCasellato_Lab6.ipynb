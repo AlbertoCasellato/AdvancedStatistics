{
 "cells": [
  {
   "cell_type": "markdown",
   "id": "201df949",
   "metadata": {},
   "source": [
    "# Exercise 1: Quadratic Bayesian regression using Stan\n",
    "The following n = 9 data sample\n",
    "\n",
    "| X  |  Y        |  $\\sigma_i$  |\n",
    "|----|-----------|-----------|\n",
    "| 2  | 105.5203  | 15.40459  |\n",
    "| 3  | 227.4457  | 36.05480  |\n",
    "| 4  | 405.6937  | 51.84040  |\n",
    "| 5  | 661.2858  | 94.66744  |\n",
    "| 6  | 886.1422  | 123.79828 |\n",
    "| 7  | 1189.6514 | 216.99935 |\n",
    "| 8  | 1631.8262 | 173.83507 |\n",
    "| 9  | 1951.8381 | 318.46511 |\n",
    "| 10 | 2528.5246 | 427.27788 |\n",
    "\n",
    "is believed to follow\n",
    " \n",
    "$ Y = \\beta_0 + \\beta_1 \\cdot X + \\beta_2 \\cdot X^2 $"
   ]
  },
  {
   "cell_type": "markdown",
   "id": "1804bac3",
   "metadata": {},
   "source": [
    "Let the prior distributions for $\\beta$ parameters be,\n",
    "- $\\beta_0$ normal distribution centered at 5 with a standard deviation of 1.\n",
    "- $\\beta_1$ uniform distribution between -1 and 1.\n",
    "- $\\beta_2$ normal distribution centered at 30 with a standard deviation of 15.\n",
    "\n",
    "Build a Stan model and run a MCMC to obtain the posterior distribution of the $\\beta$ parameters using also the $\\sigma_i$ uncertainty for each measurement."
   ]
  },
  {
   "cell_type": "code",
   "execution_count": null,
   "id": "28edabfd",
   "metadata": {},
   "outputs": [],
   "source": []
  },
  {
   "cell_type": "markdown",
   "id": "1aed455f",
   "metadata": {},
   "source": [
    "Compute 95% credibility intervals for each $\\beta$ parameter."
   ]
  },
  {
   "cell_type": "code",
   "execution_count": null,
   "id": "2279c65b",
   "metadata": {},
   "outputs": [],
   "source": []
  },
  {
   "cell_type": "markdown",
   "id": "53426513",
   "metadata": {},
   "source": [
    "Draw the fitted quadratic funtion (using the mean values of the β parameters from MCMC) together with data points and their uncertainties."
   ]
  },
  {
   "cell_type": "code",
   "execution_count": null,
   "id": "8d00eac8",
   "metadata": {},
   "outputs": [],
   "source": []
  },
  {
   "cell_type": "markdown",
   "id": "2c6ce392",
   "metadata": {},
   "source": [
    "# Exercise 2\n",
    "\n",
    "A study on water quality of streams, a high level of bacter X was defined as a level greater than 100 per 100 ml of stream water. n = 115 samples were taken from streams having a high environmental\n",
    "impact on pandas. Out of these, y = 10 had a high bacter X level."
   ]
  },
  {
   "cell_type": "markdown",
   "id": "51428a07",
   "metadata": {},
   "source": [
    "Letting p be the probability that a sample of water taken from the stream has a high bacter X level,\n",
    "(a) Find the frequentist estimator for p.\\\n",
    "(b) Using a Beta(1, 11) prior for p, calculate and posterior distribution $P(p | y)$.\\\n",
    "(c) Find the bayesian estimator for p, the posterior mean and variance, and a 95% credible interval.\\\n",
    "(d) Test the hypothesis $H_0: p = 0.1$ versus $H_1: p \\neq 0.1$ at 5% level of significance with both the frequentist and bayesian approach."
   ]
  },
  {
   "cell_type": "code",
   "execution_count": 1,
   "id": "a2146ebc",
   "metadata": {},
   "outputs": [
    {
     "name": "stdout",
     "output_type": "stream",
     "text": [
      "Frequentist estimator p = 0.08695652"
     ]
    }
   ],
   "source": [
    "n <- 115\n",
    "y <- 10\n",
    "\n",
    "# a)\n",
    "p_freq <- y / n\n",
    "cat(\"Frequentist estimator p =\", p_freq)"
   ]
  },
  {
   "cell_type": "code",
   "execution_count": 2,
   "id": "b7f9796a",
   "metadata": {},
   "outputs": [
    {
     "data": {
      "image/png": "[encoded data removed]",
      "text/plain": [
       "plot without title"
      ]
     },
     "metadata": {
      "image/png": {
       "height": 420,
       "width": 420
      }
     },
     "output_type": "display_data"
    }
   ],
   "source": [
    "# b)\n",
    "a_post <- 1 + y\n",
    "b_post <- 11 + n - y\n",
    "list_x <- seq(0,0.3,length.out=1000)\n",
    "plot(list_x, dbeta(list_x,a_post,b_post), \n",
    "     type = \"l\", xlab = \"p\", ylab = \"Density\"\n",
    ")"
   ]
  },
  {
   "cell_type": "code",
   "execution_count": 3,
   "id": "7fc26814",
   "metadata": {},
   "outputs": [
    {
     "name": "stdout",
     "output_type": "stream",
     "text": [
      "Posterior mean: 0.08661417\n",
      "Posterior variance: 0.0006180637\n",
      "95% credible interval: [ 0.04438876 , 0.1411131 ]"
     ]
    }
   ],
   "source": [
    "# c)\n",
    "p_mean <- a_post / (a_post + b_post)\n",
    "p_var <- (a_post * b_post) / ((a_post + b_post)^2 * (a_post + b_post + 1))\n",
    "ci <- qbeta(c(0.025, 0.975), a_post, b_post)\n",
    "\n",
    "cat(\"Posterior mean:\", p_mean)\n",
    "cat(\"\\nPosterior variance:\", p_var)\n",
    "cat(\"\\n95% credible interval: [\", ci[1], \",\", ci[2], \"]\")"
   ]
  },
  {
   "cell_type": "code",
   "execution_count": 4,
   "id": "58626fdd",
   "metadata": {},
   "outputs": [
    {
     "name": "stdout",
     "output_type": "stream",
     "text": [
      "Frequentist approach:\n",
      "z-value: 3.108349\n",
      "p-value: 0.001881355\n",
      "=> Reject H_0\n",
      "\n",
      "Bayesian approach:\n",
      "=> Don't reject H_0"
     ]
    }
   ],
   "source": [
    "# d) frequentist\n",
    "p0 <- 0.1\n",
    "se <- sqrt((p0*(1-p0))/n) # standard error\n",
    "z_value <- (p_freq) / se\n",
    "p_value <- 2 * (1 - pnorm(abs(z_value)))\n",
    "cat(\"Frequentist approach:\")\n",
    "cat(\"\\nz-value:\", z_value)\n",
    "cat(\"\\np-value:\", p_value)\n",
    "if (p_value < 0.05) {\n",
    "    cat(\"\\n=> Reject H_0\")\n",
    "} else {\n",
    "    cat(\"\\n=> Don't reject H_0\")\n",
    "}\n",
    "\n",
    "# d) bayesian\n",
    "cat(\"\\n\\nBayesian approach:\")\n",
    "if (0.1 >= ci[1] & 0.1 <= ci[2]) {\n",
    "    cat(\"\\n=> Don't reject H_0\")\n",
    "} else {\n",
    "    cat(\"\\n=> Reject H_0\")\n",
    "}"
   ]
  },
  {
   "cell_type": "markdown",
   "id": "6d9bcd66",
   "metadata": {},
   "source": [
    "A new measurement, performed one month later on n = 165 water samples, gives y = 9 high bacter X level\\\n",
    "(e) Find the frequentist estimator for p.\\\n",
    "(f) Find a bayesian estimator for p, assuming both a Beta(1, 10) prior for p, and assuming the posterior probability of the older measurement as the prior for the new one.\\\n",
    "(g) Find the bayesian estimator for p, the posterior mean and variance, and a 95% credible interval.\\\n",
    "(h) Test the hypothesis $H_0: p = 0.1$ versus $H_1: p \\neq 0.1$ at 5% level of significance with both the frequentist and bayesian approach."
   ]
  },
  {
   "cell_type": "code",
   "execution_count": 5,
   "id": "d3b94979",
   "metadata": {},
   "outputs": [
    {
     "name": "stdout",
     "output_type": "stream",
     "text": [
      "Frequentist estimator p = 0.08695652"
     ]
    }
   ],
   "source": [
    "# e)\n",
    "new_n <- 165\n",
    "new_y <- 9\n",
    "new_p_freq <- new_y / new_n\n",
    "cat(\"Frequentist estimator p =\", p_freq)"
   ]
  },
  {
   "cell_type": "code",
   "execution_count": 6,
   "id": "9b3e44ec",
   "metadata": {},
   "outputs": [
    {
     "data": {
      "image/png": "[encoded data removed]",
      "text/plain": [
       "plot without title"
      ]
     },
     "metadata": {
      "image/png": {
       "height": 420,
       "width": 420
      }
     },
     "output_type": "display_data"
    }
   ],
   "source": [
    "# f) \n",
    "a_post_2a <- 1 + new_y\n",
    "b_post_2a <- 10 + new_n - new_y\n",
    "\n",
    "a_post_2b <- a_post + new_y\n",
    "b_post_2b <- b_post + new_n - new_y\n",
    "\n",
    "list_x <- seq(0,0.3,length.out=1000)\n",
    "plot(list_x, dbeta(list_x, a_post_2b, b_post_2b),\n",
    "     type=\"l\", xlab = \"p\", ylab = \"Density\"\n",
    ")\n",
    "lines(list_x, dbeta(list_x, a_post_2a, b_post_2a),\n",
    "      lty = 2\n",
    ")\n",
    "legend(\"topright\", legend=c(\"Old post.\", \"Beta(1,10)\"),\n",
    "       lty=c(1,2)\n",
    ")"
   ]
  },
  {
   "cell_type": "code",
   "execution_count": 7,
   "id": "0dfa0363",
   "metadata": {},
   "outputs": [
    {
     "name": "stdout",
     "output_type": "stream",
     "text": [
      "Beta(1,10) as prior:\n",
      "- Posterior mean: 0.05681818\n",
      "- Posterior variance: 0.0003027677\n",
      "- 95% credible interval: [ 0.02773918 , 0.09538012 ]\n",
      "\n",
      "Old post. as prior:\n",
      "- Posterior mean: 0.06849315\n",
      "- Posterior variance: 0.0002177537\n",
      "- 95% credible interval: [ 0.04248352 , 0.100086 ]\n",
      "\n"
     ]
    }
   ],
   "source": [
    "# g)\n",
    "posteriors <- list(c(a_post_2a, b_post_2a), c(a_post_2b, b_post_2b))\n",
    "list_priors <- c(\"Beta(1,10)\", \"Old post.\")\n",
    "letters <- c(\"a\", \"b\")\n",
    "list_ci <- list()\n",
    "\n",
    "for (i in 1:length(posteriors)) {\n",
    "    a <- posteriors[[i]][1]\n",
    "    b <- posteriors[[i]][2]\n",
    "    \n",
    "    p_mean <- a / (a + b)\n",
    "    p_var <- (a * b) / ((a + b)^2 * (a + b + 1))\n",
    "    ci <- qbeta(c(0.025, 0.975), a, b)\n",
    "    \n",
    "    list_ci[[letters[i]]] <- ci\n",
    "    \n",
    "    cat(paste0(list_priors[i], \" as prior:\"))\n",
    "    cat(\"\\n- Posterior mean:\", p_mean)\n",
    "    cat(\"\\n- Posterior variance:\", p_var)\n",
    "    cat(\"\\n- 95% credible interval: [\", ci[1], \",\", ci[2], \"]\\n\\n\")\n",
    "}"
   ]
  },
  {
   "cell_type": "code",
   "execution_count": 8,
   "id": "3f194cad",
   "metadata": {},
   "outputs": [
    {
     "name": "stdout",
     "output_type": "stream",
     "text": [
      "Frequentist approach:\n",
      "z-value: 2.335497\n",
      "p-value: 0.01951748\n",
      "=> Reject H_0\n",
      "\n",
      "Bayesian approach with Beta(1,10) as prior:\n",
      "=> Reject H_0\n",
      "\n",
      "Bayesian approach with Old post. as prior:\n",
      "=> Don't reject H_0"
     ]
    }
   ],
   "source": [
    "# h)\n",
    "p0 <- 0.1\n",
    "\n",
    "# frequentist\n",
    "se <- sqrt((p0 * (1 - p0)) / new_n) # standard error\n",
    "z_value <- (new_p_freq) / se\n",
    "p_value <- 2 * (1 - pnorm(abs(z_value)))\n",
    "cat(\"Frequentist approach:\")\n",
    "cat(\"\\nz-value:\", z_value)\n",
    "cat(\"\\np-value:\", p_value)\n",
    "if (p_value < 0.05) {\n",
    "    cat(\"\\n=> Reject H_0\")\n",
    "} else {\n",
    "    cat(\"\\n=> Don't reject H_0\")\n",
    "}\n",
    "\n",
    "# bayesian\n",
    "for (i in 1:length(posteriors)) {\n",
    "    cat(paste0(\"\\n\\nBayesian approach with \", \n",
    "               list_priors[i], \" as prior:\"))\n",
    "    \n",
    "    if (0.1 >= list_ci[[i]][1] & 0.1 <= list_ci[[i]][2]) {\n",
    "        cat(\"\\n=> Don't reject H_0\")\n",
    "    } else {\n",
    "        cat(\"\\n=> Reject H_0\")\n",
    "    }\n",
    "}"
   ]
  },
  {
   "cell_type": "markdown",
   "id": "1bb82176",
   "metadata": {},
   "source": [
    "# Exercise 3\n",
    "\n",
    "Analyze the data of Exercise 2 and solve points (b) and (c) building and running a MCMC using Stan."
   ]
  },
  {
   "cell_type": "code",
   "execution_count": null,
   "id": "93b1b0d1",
   "metadata": {},
   "outputs": [],
   "source": []
  }
 ],
 "metadata": {
  "kernelspec": {
   "display_name": "R",
   "language": "R",
   "name": "ir"
  },
  "language_info": {
   "codemirror_mode": "r",
   "file_extension": ".r",
   "mimetype": "text/x-r-source",
   "name": "R",
   "pygments_lexer": "r",
   "version": "4.5.0"
  }
 },
 "nbformat": 4,
 "nbformat_minor": 5
}
