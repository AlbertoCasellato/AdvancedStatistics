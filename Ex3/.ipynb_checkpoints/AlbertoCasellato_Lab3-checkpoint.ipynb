{
 "cells": [
  {
   "cell_type": "markdown",
   "id": "34238d8c",
   "metadata": {},
   "source": [
    "# Exercise 1 - Bayesian Inference for Poisson model\n",
    "A quality control engineer works at a factory that produces washing machines. The number of defective washing machines manufactured each day follows a Poisson distribution with an unknown rate parameter µ. \n",
    "The objective of the engineer is to estimate µ based on observed data and prior knowledge. \n",
    "Over the next 5 days, he observes the following number of defective products: x = (3, 0, 1, 5, 2)."
   ]
  },
  {
   "cell_type": "markdown",
   "id": "4b340ee7",
   "metadata": {},
   "source": [
    "(1) Assuming a positive uniform prior distribution for the parameter µ\n",
    "- Determine and draw the posterior distribution for µ, given the data\n",
    "- Evaluate mean, median and variance, both analytically and numerically in R"
   ]
  },
  {
   "cell_type": "code",
   "execution_count": null,
   "id": "2de978f8",
   "metadata": {},
   "outputs": [],
   "source": []
  },
  {
   "cell_type": "markdown",
   "id": "4705efc8",
   "metadata": {},
   "source": [
    "(2) Taking into account that historical data from similar factories suggest that the rate of defective washing machines is around 2 per day, with standard deviation of 1, model your belief using the suitable Gamma prior and then\n",
    "- Determine and draw the posterior distribution for µ, given the data\n",
    "- Evaluate mean, median and variance, both analytically and numerically in R."
   ]
  },
  {
   "cell_type": "code",
   "execution_count": null,
   "id": "0d5deb0c",
   "metadata": {},
   "outputs": [],
   "source": []
  },
  {
   "cell_type": "markdown",
   "id": "16b12d5a",
   "metadata": {},
   "source": [
    "(3) Evaluate a 95% credibility interval for the results obtained with different priors (you can also try with other priors). In addition, compare the results obtained using Gamma posterior distribution with a normal approximation that matches the same mean and standard deviation."
   ]
  },
  {
   "cell_type": "code",
   "execution_count": null,
   "id": "38059105",
   "metadata": {},
   "outputs": [],
   "source": []
  }
 ],
 "metadata": {
  "kernelspec": {
   "display_name": "R",
   "language": "R",
   "name": "ir"
  },
  "language_info": {
   "codemirror_mode": "r",
   "file_extension": ".r",
   "mimetype": "text/x-r-source",
   "name": "R",
   "pygments_lexer": "r",
   "version": "4.5.0"
  }
 },
 "nbformat": 4,
 "nbformat_minor": 5
}
