{
 "cells": [
  {
   "cell_type": "code",
   "execution_count": 21,
   "id": "1b0c31ae",
   "metadata": {},
   "outputs": [],
   "source": [
    "v <- -33:66"
   ]
  },
  {
   "cell_type": "code",
   "execution_count": 23,
   "id": "60a21b14",
   "metadata": {},
   "outputs": [
    {
     "data": {
      "text/html": [
       "1650"
      ],
      "text/latex": [
       "1650"
      ],
      "text/markdown": [
       "1650"
      ],
      "text/plain": [
       "[1] 1650"
      ]
     },
     "metadata": {},
     "output_type": "display_data"
    }
   ],
   "source": [
    "sum(v)"
   ]
  },
  {
   "cell_type": "code",
   "execution_count": 32,
   "id": "b40cb04a",
   "metadata": {},
   "outputs": [],
   "source": [
    "mean_v <- mean(v)\n",
    "std_v <- sd(v)"
   ]
  },
  {
   "cell_type": "code",
   "execution_count": 33,
   "id": "7f8398f9",
   "metadata": {},
   "outputs": [
    {
     "data": {
      "text/html": [
       "<style>\n",
       ".list-inline {list-style: none; margin:0; padding: 0}\n",
       ".list-inline>li {display: inline-block}\n",
       ".list-inline>li:not(:last-child)::after {content: \"\\00b7\"; padding: 0 .5ex}\n",
       "</style>\n",
       "<ol class=list-inline><li>99</li><li>99</li><li>99</li><li>99</li><li>99</li><li>99</li><li>99</li><li>99</li><li>99</li><li>99</li><li>99</li><li>99</li><li>99</li><li>99</li><li>99</li><li>99</li><li>99</li><li>99</li><li>99</li><li>99</li><li>99</li><li>99</li><li>99</li><li>99</li><li>99</li><li>99</li><li>99</li><li>99</li><li>99</li><li>99</li><li>99</li><li>99</li><li>99</li><li>99</li><li>99</li><li>99</li><li>99</li><li>99</li><li>99</li><li>99</li><li>99</li><li>99</li><li>99</li><li>99</li><li>99</li><li>99</li><li>99</li><li>99</li><li>99</li><li>99</li><li>99</li><li>99</li><li>99</li><li>99</li><li>99</li><li>99</li><li>99</li><li>99</li><li>99</li><li>99</li><li>99</li><li>99</li><li>99</li><li>99</li><li>99</li><li>99</li><li>99</li><li>99</li><li>99</li><li>99</li><li>99</li><li>99</li><li>99</li><li>99</li><li>99</li><li>99</li><li>99</li><li>99</li><li>99</li><li>99</li><li>99</li><li>99</li><li>99</li><li>99</li><li>99</li><li>99</li><li>99</li><li>99</li><li>99</li><li>99</li><li>99</li><li>99</li><li>99</li><li>99</li><li>99</li><li>99</li><li>99</li><li>99</li><li>99</li><li>99</li></ol>\n"
      ],
      "text/latex": [
       "\\begin{enumerate*}\n",
       "\\item 99\n",
       "\\item 99\n",
       "\\item 99\n",
       "\\item 99\n",
       "\\item 99\n",
       "\\item 99\n",
       "\\item 99\n",
       "\\item 99\n",
       "\\item 99\n",
       "\\item 99\n",
       "\\item 99\n",
       "\\item 99\n",
       "\\item 99\n",
       "\\item 99\n",
       "\\item 99\n",
       "\\item 99\n",
       "\\item 99\n",
       "\\item 99\n",
       "\\item 99\n",
       "\\item 99\n",
       "\\item 99\n",
       "\\item 99\n",
       "\\item 99\n",
       "\\item 99\n",
       "\\item 99\n",
       "\\item 99\n",
       "\\item 99\n",
       "\\item 99\n",
       "\\item 99\n",
       "\\item 99\n",
       "\\item 99\n",
       "\\item 99\n",
       "\\item 99\n",
       "\\item 99\n",
       "\\item 99\n",
       "\\item 99\n",
       "\\item 99\n",
       "\\item 99\n",
       "\\item 99\n",
       "\\item 99\n",
       "\\item 99\n",
       "\\item 99\n",
       "\\item 99\n",
       "\\item 99\n",
       "\\item 99\n",
       "\\item 99\n",
       "\\item 99\n",
       "\\item 99\n",
       "\\item 99\n",
       "\\item 99\n",
       "\\item 99\n",
       "\\item 99\n",
       "\\item 99\n",
       "\\item 99\n",
       "\\item 99\n",
       "\\item 99\n",
       "\\item 99\n",
       "\\item 99\n",
       "\\item 99\n",
       "\\item 99\n",
       "\\item 99\n",
       "\\item 99\n",
       "\\item 99\n",
       "\\item 99\n",
       "\\item 99\n",
       "\\item 99\n",
       "\\item 99\n",
       "\\item 99\n",
       "\\item 99\n",
       "\\item 99\n",
       "\\item 99\n",
       "\\item 99\n",
       "\\item 99\n",
       "\\item 99\n",
       "\\item 99\n",
       "\\item 99\n",
       "\\item 99\n",
       "\\item 99\n",
       "\\item 99\n",
       "\\item 99\n",
       "\\item 99\n",
       "\\item 99\n",
       "\\item 99\n",
       "\\item 99\n",
       "\\item 99\n",
       "\\item 99\n",
       "\\item 99\n",
       "\\item 99\n",
       "\\item 99\n",
       "\\item 99\n",
       "\\item 99\n",
       "\\item 99\n",
       "\\item 99\n",
       "\\item 99\n",
       "\\item 99\n",
       "\\item 99\n",
       "\\item 99\n",
       "\\item 99\n",
       "\\item 99\n",
       "\\item 99\n",
       "\\end{enumerate*}\n"
      ],
      "text/markdown": [
       "1. 99\n",
       "2. 99\n",
       "3. 99\n",
       "4. 99\n",
       "5. 99\n",
       "6. 99\n",
       "7. 99\n",
       "8. 99\n",
       "9. 99\n",
       "10. 99\n",
       "11. 99\n",
       "12. 99\n",
       "13. 99\n",
       "14. 99\n",
       "15. 99\n",
       "16. 99\n",
       "17. 99\n",
       "18. 99\n",
       "19. 99\n",
       "20. 99\n",
       "21. 99\n",
       "22. 99\n",
       "23. 99\n",
       "24. 99\n",
       "25. 99\n",
       "26. 99\n",
       "27. 99\n",
       "28. 99\n",
       "29. 99\n",
       "30. 99\n",
       "31. 99\n",
       "32. 99\n",
       "33. 99\n",
       "34. 99\n",
       "35. 99\n",
       "36. 99\n",
       "37. 99\n",
       "38. 99\n",
       "39. 99\n",
       "40. 99\n",
       "41. 99\n",
       "42. 99\n",
       "43. 99\n",
       "44. 99\n",
       "45. 99\n",
       "46. 99\n",
       "47. 99\n",
       "48. 99\n",
       "49. 99\n",
       "50. 99\n",
       "51. 99\n",
       "52. 99\n",
       "53. 99\n",
       "54. 99\n",
       "55. 99\n",
       "56. 99\n",
       "57. 99\n",
       "58. 99\n",
       "59. 99\n",
       "60. 99\n",
       "61. 99\n",
       "62. 99\n",
       "63. 99\n",
       "64. 99\n",
       "65. 99\n",
       "66. 99\n",
       "67. 99\n",
       "68. 99\n",
       "69. 99\n",
       "70. 99\n",
       "71. 99\n",
       "72. 99\n",
       "73. 99\n",
       "74. 99\n",
       "75. 99\n",
       "76. 99\n",
       "77. 99\n",
       "78. 99\n",
       "79. 99\n",
       "80. 99\n",
       "81. 99\n",
       "82. 99\n",
       "83. 99\n",
       "84. 99\n",
       "85. 99\n",
       "86. 99\n",
       "87. 99\n",
       "88. 99\n",
       "89. 99\n",
       "90. 99\n",
       "91. 99\n",
       "92. 99\n",
       "93. 99\n",
       "94. 99\n",
       "95. 99\n",
       "96. 99\n",
       "97. 99\n",
       "98. 99\n",
       "99. 99\n",
       "100. 99\n",
       "\n",
       "\n"
      ],
      "text/plain": [
       "  [1] 99 99 99 99 99 99 99 99 99 99 99 99 99 99 99 99 99 99 99 99 99 99 99 99 99\n",
       " [26] 99 99 99 99 99 99 99 99 99 99 99 99 99 99 99 99 99 99 99 99 99 99 99 99 99\n",
       " [51] 99 99 99 99 99 99 99 99 99 99 99 99 99 99 99 99 99 99 99 99 99 99 99 99 99\n",
       " [76] 99 99 99 99 99 99 99 99 99 99 99 99 99 99 99 99 99 99 99 99 99 99 99 99 99"
      ]
     },
     "metadata": {},
     "output_type": "display_data"
    }
   ],
   "source": [
    "rep(99,length(v))"
   ]
  },
  {
   "cell_type": "code",
   "execution_count": 37,
   "id": "cac6c32d",
   "metadata": {},
   "outputs": [
    {
     "data": {
      "text/html": [
       "<style>\n",
       ".list-inline {list-style: none; margin:0; padding: 0}\n",
       ".list-inline>li {display: inline-block}\n",
       ".list-inline>li:not(:last-child)::after {content: \"\\00b7\"; padding: 0 .5ex}\n",
       "</style>\n",
       "<ol class=list-inline><li>-1</li><li>-1</li><li>-5</li><li>-5</li></ol>\n"
      ],
      "text/latex": [
       "\\begin{enumerate*}\n",
       "\\item -1\n",
       "\\item -1\n",
       "\\item -5\n",
       "\\item -5\n",
       "\\end{enumerate*}\n"
      ],
      "text/markdown": [
       "1. -1\n",
       "2. -1\n",
       "3. -5\n",
       "4. -5\n",
       "\n",
       "\n"
      ],
      "text/plain": [
       "[1] -1 -1 -5 -5"
      ]
     },
     "metadata": {},
     "output_type": "display_data"
    }
   ],
   "source": [
    "c(1,3) - c(2,4,6,8)"
   ]
  },
  {
   "cell_type": "code",
   "execution_count": 1,
   "id": "351a067f",
   "metadata": {},
   "outputs": [
    {
     "name": "stdout",
     "output_type": "stream",
     "text": [
      "bla"
     ]
    }
   ],
   "source": [
    "cat(\"bla\")"
   ]
  },
  {
   "cell_type": "code",
   "execution_count": 5,
   "id": "95612455",
   "metadata": {},
   "outputs": [
    {
     "data": {
      "text/html": [
       "'1'"
      ],
      "text/latex": [
       "'1'"
      ],
      "text/markdown": [
       "'1'"
      ],
      "text/plain": [
       "[1] \"1\""
      ]
     },
     "metadata": {},
     "output_type": "display_data"
    }
   ],
   "source": [
    "as.character(sign(3))"
   ]
  },
  {
   "cell_type": "code",
   "execution_count": 28,
   "id": "aa466e8a",
   "metadata": {},
   "outputs": [
    {
     "data": {
      "text/html": [
       "2432902008176640000"
      ],
      "text/latex": [
       "2432902008176640000"
      ],
      "text/markdown": [
       "2432902008176640000"
      ],
      "text/plain": [
       "[1] 2.432902e+18"
      ]
     },
     "metadata": {},
     "output_type": "display_data"
    }
   ],
   "source": [
    "n <- 20\n",
    "\n",
    "tot <- 1\n",
    "for (n2 in n:1 ) {\n",
    "    tot <- tot * n2\n",
    "}\n",
    "tot"
   ]
  },
  {
   "cell_type": "code",
   "execution_count": 29,
   "id": "75f64c78",
   "metadata": {},
   "outputs": [
    {
     "data": {
      "text/html": [
       "2432902008176640000"
      ],
      "text/latex": [
       "2432902008176640000"
      ],
      "text/markdown": [
       "2432902008176640000"
      ],
      "text/plain": [
       "[1] 2.432902e+18"
      ]
     },
     "metadata": {},
     "output_type": "display_data"
    }
   ],
   "source": [
    "a <- 1\n",
    "tot2 <- 1\n",
    "while (a <= n) {\n",
    "    tot2 <- tot2 * a\n",
    "    a <- a + 1\n",
    "}\n",
    "tot2"
   ]
  },
  {
   "cell_type": "code",
   "execution_count": 31,
   "id": "e00a6bbd",
   "metadata": {},
   "outputs": [
    {
     "data": {
      "text/html": [
       "2432902008176640000"
      ],
      "text/latex": [
       "2432902008176640000"
      ],
      "text/markdown": [
       "2432902008176640000"
      ],
      "text/plain": [
       "[1] 2.432902e+18"
      ]
     },
     "metadata": {},
     "output_type": "display_data"
    }
   ],
   "source": [
    "b <- 1\n",
    "tot3 <- 1\n",
    "repeat {\n",
    "    tot3 <- tot3 * b\n",
    "    b <- b + 1\n",
    "    if (b > n) break\n",
    "}\n",
    "tot3"
   ]
  },
  {
   "cell_type": "code",
   "execution_count": 33,
   "id": "da51acb7",
   "metadata": {},
   "outputs": [
    {
     "data": {
      "text/html": [
       "<pre class=language-r><code>function (x, y) \n",
       "{\n",
       "<span style=white-space:pre-wrap>    z &lt;- x + y</span>\n",
       "<span style=white-space:pre-wrap>    w &lt;- x * y</span>\n",
       "<span style=white-space:pre-wrap>    cat(z, w)</span>\n",
       "}</code></pre>"
      ],
      "text/latex": [
       "\\begin{minted}{r}\n",
       "function (x, y) \n",
       "\\{\n",
       "    z <- x + y\n",
       "    w <- x * y\n",
       "    cat(z, w)\n",
       "\\}\n",
       "\\end{minted}"
      ],
      "text/markdown": [
       "```r\n",
       "function (x, y) \n",
       "{\n",
       "    z <- x + y\n",
       "    w <- x * y\n",
       "    cat(z, w)\n",
       "}\n",
       "```"
      ],
      "text/plain": [
       "function (x, y) \n",
       "{\n",
       "    z <- x + y\n",
       "    w <- x * y\n",
       "    cat(z, w)\n",
       "}"
      ]
     },
     "metadata": {},
     "output_type": "display_data"
    }
   ],
   "source": [
    "f <- function(x,y) {\n",
    "    z <- x + y\n",
    "    w <- x * y\n",
    "    cat(z, w)\n",
    "}\n",
    "f"
   ]
  },
  {
   "cell_type": "code",
   "execution_count": 1,
   "id": "169e652b",
   "metadata": {},
   "outputs": [
    {
     "data": {
      "text/html": [
       "<ol>\n",
       "\t<li><style>\n",
       ".list-inline {list-style: none; margin:0; padding: 0}\n",
       ".list-inline>li {display: inline-block}\n",
       ".list-inline>li:not(:last-child)::after {content: \"\\00b7\"; padding: 0 .5ex}\n",
       "</style>\n",
       "<ol class=list-inline><li>1</li><li>2</li><li>3</li></ol>\n",
       "</li>\n",
       "\t<li><style>\n",
       ".list-inline {list-style: none; margin:0; padding: 0}\n",
       ".list-inline>li {display: inline-block}\n",
       ".list-inline>li:not(:last-child)::after {content: \"\\00b7\"; padding: 0 .5ex}\n",
       "</style>\n",
       "<ol class=list-inline><li>6</li><li>7</li><li>8</li></ol>\n",
       "</li>\n",
       "</ol>\n"
      ],
      "text/latex": [
       "\\begin{enumerate}\n",
       "\\item \\begin{enumerate*}\n",
       "\\item 1\n",
       "\\item 2\n",
       "\\item 3\n",
       "\\end{enumerate*}\n",
       "\n",
       "\\item \\begin{enumerate*}\n",
       "\\item 6\n",
       "\\item 7\n",
       "\\item 8\n",
       "\\end{enumerate*}\n",
       "\n",
       "\\end{enumerate}\n"
      ],
      "text/markdown": [
       "1. 1. 1\n",
       "2. 2\n",
       "3. 3\n",
       "\n",
       "\n",
       "\n",
       "2. 1. 6\n",
       "2. 7\n",
       "3. 8\n",
       "\n",
       "\n",
       "\n",
       "\n",
       "\n"
      ],
      "text/plain": [
       "[[1]]\n",
       "[1] 1 2 3\n",
       "\n",
       "[[2]]\n",
       "[1] 6 7 8\n"
      ]
     },
     "metadata": {},
     "output_type": "display_data"
    }
   ],
   "source": [
    "(l <- list(1:3, 6:8))"
   ]
  },
  {
   "cell_type": "code",
   "execution_count": 4,
   "id": "00f0c317",
   "metadata": {},
   "outputs": [
    {
     "data": {
      "text/html": [
       "<ol>\n",
       "\t<li><style>\n",
       ".list-inline {list-style: none; margin:0; padding: 0}\n",
       ".list-inline>li {display: inline-block}\n",
       ".list-inline>li:not(:last-child)::after {content: \"\\00b7\"; padding: 0 .5ex}\n",
       "</style>\n",
       "<ol class=list-inline><li>1</li><li>2</li><li>3</li></ol>\n",
       "</li>\n",
       "</ol>\n"
      ],
      "text/latex": [
       "\\begin{enumerate}\n",
       "\\item \\begin{enumerate*}\n",
       "\\item 1\n",
       "\\item 2\n",
       "\\item 3\n",
       "\\end{enumerate*}\n",
       "\n",
       "\\end{enumerate}\n"
      ],
      "text/markdown": [
       "1. 1. 1\n",
       "2. 2\n",
       "3. 3\n",
       "\n",
       "\n",
       "\n",
       "\n",
       "\n"
      ],
      "text/plain": [
       "[[1]]\n",
       "[1] 1 2 3\n"
      ]
     },
     "metadata": {},
     "output_type": "display_data"
    }
   ],
   "source": [
    "l[1]"
   ]
  },
  {
   "cell_type": "code",
   "execution_count": 5,
   "id": "b9683cd2",
   "metadata": {},
   "outputs": [
    {
     "data": {
      "text/html": [
       "<style>\n",
       ".list-inline {list-style: none; margin:0; padding: 0}\n",
       ".list-inline>li {display: inline-block}\n",
       ".list-inline>li:not(:last-child)::after {content: \"\\00b7\"; padding: 0 .5ex}\n",
       "</style>\n",
       "<ol class=list-inline><li>1</li><li>2</li><li>3</li></ol>\n"
      ],
      "text/latex": [
       "\\begin{enumerate*}\n",
       "\\item 1\n",
       "\\item 2\n",
       "\\item 3\n",
       "\\end{enumerate*}\n"
      ],
      "text/markdown": [
       "1. 1\n",
       "2. 2\n",
       "3. 3\n",
       "\n",
       "\n"
      ],
      "text/plain": [
       "[1] 1 2 3"
      ]
     },
     "metadata": {},
     "output_type": "display_data"
    }
   ],
   "source": [
    "l[[1]]"
   ]
  },
  {
   "cell_type": "code",
   "execution_count": 7,
   "id": "fc9d908c",
   "metadata": {},
   "outputs": [
    {
     "data": {
      "text/html": [
       "'a'"
      ],
      "text/latex": [
       "'a'"
      ],
      "text/markdown": [
       "'a'"
      ],
      "text/plain": [
       "[1] \"a\""
      ]
     },
     "metadata": {},
     "output_type": "display_data"
    }
   ],
   "source": [
    "letters[1]"
   ]
  },
  {
   "cell_type": "code",
   "execution_count": 8,
   "id": "2632c956",
   "metadata": {},
   "outputs": [
    {
     "data": {
      "text/html": [
       "<table class=\"dataframe\">\n",
       "<caption>A data.frame: 3 × 2</caption>\n",
       "<thead>\n",
       "\t<tr><th scope=col>x</th><th scope=col>y</th></tr>\n",
       "\t<tr><th scope=col>&lt;int&gt;</th><th scope=col>&lt;chr&gt;</th></tr>\n",
       "</thead>\n",
       "<tbody>\n",
       "\t<tr><td>1</td><td>a</td></tr>\n",
       "\t<tr><td>2</td><td>b</td></tr>\n",
       "\t<tr><td>3</td><td>c</td></tr>\n",
       "</tbody>\n",
       "</table>\n"
      ],
      "text/latex": [
       "A data.frame: 3 × 2\n",
       "\\begin{tabular}{ll}\n",
       " x & y\\\\\n",
       " <int> & <chr>\\\\\n",
       "\\hline\n",
       "\t 1 & a\\\\\n",
       "\t 2 & b\\\\\n",
       "\t 3 & c\\\\\n",
       "\\end{tabular}\n"
      ],
      "text/markdown": [
       "\n",
       "A data.frame: 3 × 2\n",
       "\n",
       "| x &lt;int&gt; | y &lt;chr&gt; |\n",
       "|---|---|\n",
       "| 1 | a |\n",
       "| 2 | b |\n",
       "| 3 | c |\n",
       "\n"
      ],
      "text/plain": [
       "  x y\n",
       "1 1 a\n",
       "2 2 b\n",
       "3 3 c"
      ]
     },
     "metadata": {},
     "output_type": "display_data"
    }
   ],
   "source": [
    "(df <- data.frame(x=1:3, y=letters[1:3]))"
   ]
  },
  {
   "cell_type": "code",
   "execution_count": 9,
   "id": "d5803900",
   "metadata": {},
   "outputs": [
    {
     "data": {
      "text/html": [
       "<table class=\"dataframe\">\n",
       "<caption>A data.frame: 3 × 2</caption>\n",
       "<thead>\n",
       "\t<tr><th scope=col>x</th><th scope=col>y</th></tr>\n",
       "\t<tr><th scope=col>&lt;int&gt;</th><th scope=col>&lt;chr&gt;</th></tr>\n",
       "</thead>\n",
       "<tbody>\n",
       "\t<tr><td>1</td><td>a</td></tr>\n",
       "\t<tr><td>2</td><td>b</td></tr>\n",
       "\t<tr><td>3</td><td>c</td></tr>\n",
       "</tbody>\n",
       "</table>\n"
      ],
      "text/latex": [
       "A data.frame: 3 × 2\n",
       "\\begin{tabular}{ll}\n",
       " x & y\\\\\n",
       " <int> & <chr>\\\\\n",
       "\\hline\n",
       "\t 1 & a\\\\\n",
       "\t 2 & b\\\\\n",
       "\t 3 & c\\\\\n",
       "\\end{tabular}\n"
      ],
      "text/markdown": [
       "\n",
       "A data.frame: 3 × 2\n",
       "\n",
       "| x &lt;int&gt; | y &lt;chr&gt; |\n",
       "|---|---|\n",
       "| 1 | a |\n",
       "| 2 | b |\n",
       "| 3 | c |\n",
       "\n"
      ],
      "text/plain": [
       "  x y\n",
       "1 1 a\n",
       "2 2 b\n",
       "3 3 c"
      ]
     },
     "metadata": {},
     "output_type": "display_data"
    }
   ],
   "source": [
    "df"
   ]
  },
  {
   "cell_type": "code",
   "execution_count": 10,
   "id": "af09dd44",
   "metadata": {},
   "outputs": [],
   "source": [
    "x <- c(2.1, 4, 6.7, 1.75)"
   ]
  },
  {
   "cell_type": "code",
   "execution_count": 13,
   "id": "5fef1a90",
   "metadata": {},
   "outputs": [
    {
     "data": {
      "text/html": [
       "<style>\n",
       ".list-inline {list-style: none; margin:0; padding: 0}\n",
       ".list-inline>li {display: inline-block}\n",
       ".list-inline>li:not(:last-child)::after {content: \"\\00b7\"; padding: 0 .5ex}\n",
       "</style>\n",
       "<ol class=list-inline><li>2.1</li><li>6.7</li></ol>\n"
      ],
      "text/latex": [
       "\\begin{enumerate*}\n",
       "\\item 2.1\n",
       "\\item 6.7\n",
       "\\end{enumerate*}\n"
      ],
      "text/markdown": [
       "1. 2.1\n",
       "2. 6.7\n",
       "\n",
       "\n"
      ],
      "text/plain": [
       "[1] 2.1 6.7"
      ]
     },
     "metadata": {},
     "output_type": "display_data"
    }
   ],
   "source": [
    "x[c(T,F)]"
   ]
  }
 ],
 "metadata": {
  "kernelspec": {
   "display_name": "R",
   "language": "R",
   "name": "ir"
  },
  "language_info": {
   "codemirror_mode": "r",
   "file_extension": ".r",
   "mimetype": "text/x-r-source",
   "name": "R",
   "pygments_lexer": "r",
   "version": "4.4.3"
  }
 },
 "nbformat": 4,
 "nbformat_minor": 5
}
